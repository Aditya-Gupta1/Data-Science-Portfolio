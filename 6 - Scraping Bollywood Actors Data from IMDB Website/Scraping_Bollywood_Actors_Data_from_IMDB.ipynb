{
  "nbformat": 4,
  "nbformat_minor": 0,
  "metadata": {
    "colab": {
      "name": "Scraping Bollywood Actors Data from IMDB.ipynb",
      "provenance": [],
      "collapsed_sections": []
    },
    "kernelspec": {
      "name": "python3",
      "display_name": "Python 3"
    }
  },
  "cells": [
    {
      "cell_type": "code",
      "metadata": {
        "id": "LrpfI7eikxlL",
        "colab_type": "code",
        "colab": {}
      },
      "source": [
        "#Import required libraries.\n",
        "from bs4 import BeautifulSoup\n",
        "import requests\n",
        "import os\n",
        "import urllib.request\n",
        "import pandas as pd"
      ],
      "execution_count": 0,
      "outputs": []
    },
    {
      "cell_type": "code",
      "metadata": {
        "id": "nmlisgd1FRN2",
        "colab_type": "code",
        "colab": {}
      },
      "source": [
        "#Function to scrape data from IMDB website.\n",
        "def get_data():\n",
        "\n",
        "  url = 'https://www.imdb.com/list/ls002913270/'\n",
        "  response = requests.get(url)\n",
        "\n",
        "  soup = BeautifulSoup(response.text, 'lxml')\n",
        "\n",
        "  actor_images_links = [a.attrs.get('src') for a in soup.select('div.lister-item-image a img')]\n",
        "  actor_names = [a.attrs.get('alt') for a in soup.select('div.lister-item-image a img')]\n",
        "  actors_info = [a.get_text().strip() for a in soup.select('div.lister-item-content p')]\n",
        "  del actors_info[0::2]\n",
        "\n",
        "  return actor_images_links, actor_names, actors_info"
      ],
      "execution_count": 0,
      "outputs": []
    },
    {
      "cell_type": "code",
      "metadata": {
        "id": "R01PiUb2E9Xb",
        "colab_type": "code",
        "colab": {}
      },
      "source": [
        "#Final functino to call\n",
        "def make_database(format = 'consolidated'):\n",
        "\n",
        "  links, names, info = get_data()\n",
        "\n",
        "  if format is 'consolidated':\n",
        "\n",
        "    os.makedirs('ActorImages')\n",
        "\n",
        "    #List to store all the names of images.\n",
        "    image_file_names = []\n",
        "\n",
        "    for i in range(len(links)):\n",
        "\n",
        "      #Defining the image name and storing it in the folder.\n",
        "      image_name = str(i+1)+'-'+names[i]+'.jpg'\n",
        "      image_file_names.append(image_name)\n",
        "      urllib.request.urlretrieve(links[i],'ActorImages/'+image_name)\n",
        "\n",
        "    #Making a .csv file containing information regarding actor name, actor data and actor's image file name.\n",
        "    data = zip(names,image_file_names,info)\n",
        "    database = pd.DataFrame(data,columns= ['Actor_Name', 'Actor_Image_File_Name', 'Actor_Data'])\n",
        "    database.to_csv('Actors_Data.csv')\n",
        "\n",
        "  elif format is 'distributed':\n",
        "\n",
        "    os.makedirs('ActorDataBase')\n",
        "\n",
        "    for i in range(len(links)):\n",
        "\n",
        "      #Making folder of each Actor Seperately.\n",
        "      folder_name = str(i+1)+'-'+names[i]\n",
        "      os.makedirs('ActorDataBase'+'/'+folder_name)\n",
        "\n",
        "      #Storing image in that folder.\n",
        "      image_name = str(i+1)+'-'+names[i]+'.jpg'\n",
        "      image_path = 'ActorDataBase/'+folder_name+'/'\n",
        "      urllib.request.urlretrieve(links[i],image_path+image_name)\n",
        "\n",
        "      #Storing meta data about the actor in a .txt file.\n",
        "      file_name = str(i+1)+'-'+names[i]+'.txt'\n",
        "      with open('ActorDataBase/'+folder_name+'/'+file_name,'w') as f:\n",
        "        f.write(info[i])"
      ],
      "execution_count": 0,
      "outputs": []
    },
    {
      "cell_type": "code",
      "metadata": {
        "id": "s7-panaXJ2WD",
        "colab_type": "code",
        "colab": {}
      },
      "source": [
        "#Making the function call.\n",
        "make_database('consolidated')"
      ],
      "execution_count": 0,
      "outputs": []
    }
  ]
}